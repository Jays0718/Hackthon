{
 "cells": [
  {
   "cell_type": "code",
   "execution_count": 1,
   "id": "7a1fe785",
   "metadata": {},
   "outputs": [
    {
     "name": "stdout",
     "output_type": "stream",
     "text": [
      "Enter a number: 4\n",
      "The square root of the 4.0 is 2.0\n"
     ]
    }
   ],
   "source": [
    "#1\n",
    "n = float(input('Enter a number: '))\n",
    "n_sqrt = n ** 0.5\n",
    "print(\"The square root of the\",n,\"is\",n_sqrt)\n"
   ]
  },
  {
   "cell_type": "code",
   "execution_count": 21,
   "id": "0f4f83db",
   "metadata": {},
   "outputs": [
    {
     "name": "stdout",
     "output_type": "stream",
     "text": [
      "enter the value of x:6\n",
      "they are unequal\n",
      "they are unequal\n",
      "they are unequal\n",
      "they are unequal\n",
      "they are unequal\n",
      "they are unequal\n",
      "they are unequal\n",
      "they are unequal\n",
      "they are unequal\n",
      "they are unequal\n"
     ]
    }
   ],
   "source": [
    "#2\n",
    "X= int(input(\"enter the value of x:\"))\n",
    "for i in range(0,10):\n",
    "    if X==y:\n",
    "        print('they are equal')\n",
    "    else:\n",
    "        print('they are unequal')\n"
   ]
  },
  {
   "cell_type": "code",
   "execution_count": 28,
   "id": "4593c9e5",
   "metadata": {},
   "outputs": [
    {
     "name": "stdout",
     "output_type": "stream",
     "text": [
      "0\n"
     ]
    }
   ],
   "source": [
    "#3\n",
    "A=B = 0 \n",
    "if A == B:\n",
    "    Z = A + B  \n",
    "print(Z)  \n"
   ]
  },
  {
   "cell_type": "code",
   "execution_count": 32,
   "id": "612fbaf2",
   "metadata": {},
   "outputs": [
    {
     "name": "stdout",
     "output_type": "stream",
     "text": [
      "250\n",
      "500\n",
      "750\n",
      "feefeefee\n",
      "feefeefeefee\n",
      "feefeefeefeefee\n",
      "feefeefeefeefeefee\n",
      "feefeefeefeefeefeefee\n"
     ]
    }
   ],
   "source": [
    "#4\n",
    "fee = 250\n",
    "i = 0\n",
    "while fee <= 2000:\n",
    "    if fee <= 750:\n",
    "        print(fee)\n",
    "    else:\n",
    "        print(\"fee\" * i)\n",
    "    i += 1\n",
    "    fee += 250\n"
   ]
  },
  {
   "cell_type": "code",
   "execution_count": 66,
   "id": "6efb316f",
   "metadata": {},
   "outputs": [
    {
     "name": "stdout",
     "output_type": "stream",
     "text": [
      "1\n",
      "0\n",
      "3\n",
      "2\n",
      "5\n",
      "4\n",
      "7\n",
      "6\n",
      "9\n",
      "8\n"
     ]
    }
   ],
   "source": [
    "#5\n",
    "step=10\n",
    "for e in range(0,step):\n",
    "    if e %2 == 0:\n",
    "        print(e+1)\n",
    "    else:\n",
    "        print(e-1)"
   ]
  },
  {
   "cell_type": "code",
   "execution_count": null,
   "id": "14266c62",
   "metadata": {},
   "outputs": [],
   "source": []
  },
  {
   "cell_type": "code",
   "execution_count": 55,
   "id": "b252268d",
   "metadata": {},
   "outputs": [
    {
     "name": "stdout",
     "output_type": "stream",
     "text": [
      "c\n",
      "o\n",
      "m\n",
      "e\n",
      " \n",
      "t\n"
     ]
    }
   ],
   "source": [
    "# 6\n",
    "Str = 'welcome to symbiosis'\n",
    "for s in range(3,9):\n",
    "    print(Str[s])"
   ]
  },
  {
   "cell_type": "code",
   "execution_count": null,
   "id": "8f1238ea",
   "metadata": {},
   "outputs": [],
   "source": []
  },
  {
   "cell_type": "code",
   "execution_count": null,
   "id": "b06dcf66",
   "metadata": {},
   "outputs": [],
   "source": []
  },
  {
   "cell_type": "code",
   "execution_count": 63,
   "id": "23550c40",
   "metadata": {},
   "outputs": [
    {
     "name": "stdout",
     "output_type": "stream",
     "text": [
      "hello all\n"
     ]
    }
   ],
   "source": [
    "#7\n",
    "print('hello all') \n",
    "for i in range(2, 5):\n",
    "    for j in range(1, 10):\n",
    "        def title():\n",
    "            if i <= 5:\n",
    "                print(f'i = {i}, j = {j}')"
   ]
  },
  {
   "cell_type": "code",
   "execution_count": null,
   "id": "9fb3f2bf",
   "metadata": {},
   "outputs": [],
   "source": []
  },
  {
   "cell_type": "code",
   "execution_count": null,
   "id": "fe412145",
   "metadata": {},
   "outputs": [],
   "source": []
  },
  {
   "cell_type": "code",
   "execution_count": 44,
   "id": "c45d8f71",
   "metadata": {},
   "outputs": [
    {
     "name": "stdout",
     "output_type": "stream",
     "text": [
      "[1, 2, 3, 4, 5, 6, 'e', 'f']\n",
      "[1, 2, 3, 4, 5, 6, 'e', 'f']\n",
      "[1, 2, 3, 4, 5, 6, 'e', 'f']\n",
      "[1, 2, 3, 4, 5, 6, 'e', 'f']\n",
      "[1, 2, 3, 4, 5, 6, 'e', 'f']\n",
      "[1, 2, 3, 4, 5, 6, 'e', 'f']\n",
      "[1, 2, 3, 4, 5, 6, 'e', 'f']\n",
      "[1, 2, 3, 4, 5, 6, 'e', 'f']\n"
     ]
    }
   ],
   "source": [
    "#8\n",
    "L = [1,2,3,4,5,6,'e','f']\n",
    "for i in L:\n",
    "    if i =='a': \n",
    "        break\n",
    "    else:\n",
    "        print(L)"
   ]
  },
  {
   "cell_type": "code",
   "execution_count": 62,
   "id": "0bcdda1a",
   "metadata": {},
   "outputs": [
    {
     "name": "stdout",
     "output_type": "stream",
     "text": [
      "anu\n"
     ]
    }
   ],
   "source": [
    "#9\n",
    "A = {6: 'anu', 'sumit': 7, 5: 'me'}\n",
    "\n",
    "for i in A:\n",
    "    if isinstance(i, int) and i % 3 == 0:\n",
    "        print(A[i])\n"
   ]
  },
  {
   "cell_type": "code",
   "execution_count": null,
   "id": "1ff69a3f",
   "metadata": {},
   "outputs": [],
   "source": []
  },
  {
   "cell_type": "code",
   "execution_count": 22,
   "id": "b39ee8a2",
   "metadata": {},
   "outputs": [
    {
     "name": "stdout",
     "output_type": "stream",
     "text": [
      "notmaiden\n",
      "notmaiden\n",
      "notmaiden\n",
      "notmaiden\n",
      "maiden\n",
      "notmaiden\n"
     ]
    }
   ],
   "source": [
    "# 10 \n",
    "Runs = (1,6,7,8,0,99)\n",
    "for i in Runs:\n",
    "    if i == 0:\n",
    "        print(\"maiden\")\n",
    "    else:\n",
    "        print(\"notmaiden\")"
   ]
  },
  {
   "cell_type": "code",
   "execution_count": 67,
   "id": "bf3de7e3",
   "metadata": {},
   "outputs": [
    {
     "name": "stdout",
     "output_type": "stream",
     "text": [
      "Enter a string to find its position in the list: apple\n",
      "The string 'apple' is at position 0 in the list.\n"
     ]
    }
   ],
   "source": [
    "#1\n",
    "slist = ['apple', 'banana', 'cherry', 'date', 'elderberry']\n",
    "\n",
    "# Input from user\n",
    "u = input(\"Enter a string to find its position in the list: \")\n",
    "if u in slist:\n",
    "    position = slist.index(u)\n",
    "    print(f\"The string '{u}' is at position {position} in the list.\")\n",
    "else:\n",
    "    print(f\"The string '{u}' is not found in the list.\")\n"
   ]
  },
  {
   "cell_type": "code",
   "execution_count": null,
   "id": "67a8d7b2",
   "metadata": {},
   "outputs": [],
   "source": []
  },
  {
   "cell_type": "code",
   "execution_count": 70,
   "id": "36fe0e95",
   "metadata": {},
   "outputs": [
    {
     "name": "stdout",
     "output_type": "stream",
     "text": [
      "{'This': 1, 'is': 2, 'a': 2, 'sample': 1, 'text.': 1, 'It': 1, 'simple': 1, 'text': 1, 'example.': 1}\n"
     ]
    }
   ],
   "source": [
    "#2\n",
    "def count_words(input_string):\n",
    "    word_dict = {}\n",
    "    \n",
    "    for word in input_string.split():\n",
    "        word_dict[word] = word_dict.get(word, 0) + 1\n",
    "    \n",
    "    return word_dict\n",
    "\n",
    "input_text = \"This is a sample text. It is a simple text example.\"\n",
    "result = count_words(input_text)\n",
    "print(result)\n"
   ]
  },
  {
   "cell_type": "code",
   "execution_count": 92,
   "id": "805d10a0",
   "metadata": {},
   "outputs": [],
   "source": [
    "#3\n",
    "class mobile:\n",
    "    def __init__(self, owner, brand, color, camera_pixel):\n",
    "        self.owner = owner\n",
    "        self.brand = brand\n",
    "        self.color = color\n",
    "        self.camera_pixel = camera_pixel\n",
    "\n",
    "    def display(self):\n",
    "        print(f\"mobile Owner: {self.owner}\")\n",
    "        print(f\"mobile Brand: {self.brand}\")\n",
    "        print(f\"Color: {self.color}\")\n",
    "        print(f\"Camera Pixel: {self.camera_pixel} MP\")"
   ]
  },
  {
   "cell_type": "code",
   "execution_count": 93,
   "id": "649e8763",
   "metadata": {},
   "outputs": [],
   "source": [
    "phone = mobile(owner='Jaydeep',brand='Samsung',color='black',camera_pixel=50)"
   ]
  },
  {
   "cell_type": "code",
   "execution_count": 94,
   "id": "a86f4afe",
   "metadata": {},
   "outputs": [
    {
     "name": "stdout",
     "output_type": "stream",
     "text": [
      "mobile Owner: Jaydeep\n",
      "mobile Brand: Samsung\n",
      "Color: black\n",
      "Camera Pixel: 50 MP\n"
     ]
    }
   ],
   "source": [
    "phone.display()"
   ]
  },
  {
   "cell_type": "code",
   "execution_count": null,
   "id": "1ecd55f8",
   "metadata": {},
   "outputs": [],
   "source": []
  },
  {
   "cell_type": "code",
   "execution_count": 69,
   "id": "adadcfbd",
   "metadata": {},
   "outputs": [
    {
     "name": "stdout",
     "output_type": "stream",
     "text": [
      "['A', 'L', 'L', ' ', 'i', 's', ' ', 'w', 'e', 'l', 'l']\n"
     ]
    }
   ],
   "source": [
    "#4\n",
    "# str1 = \"ALL is well\" \n",
    "# Write a code snippet to convert a string to a list.\n",
    "\n",
    "str1 = \"ALL is well\"\n",
    "print(list(str1))"
   ]
  },
  {
   "cell_type": "code",
   "execution_count": 68,
   "id": "c82fe966",
   "metadata": {},
   "outputs": [
    {
     "name": "stdout",
     "output_type": "stream",
     "text": [
      "4\n",
      "16\n",
      "36\n",
      "25\n",
      "49\n"
     ]
    }
   ],
   "source": [
    "#5\n",
    "#Write a code snippet to generate the square of every element of a list.\n",
    "\n",
    "l = [2,4,6,5,7]\n",
    "for i in l:\n",
    "    print(i*i)"
   ]
  },
  {
   "cell_type": "code",
   "execution_count": null,
   "id": "38bd9ba7",
   "metadata": {},
   "outputs": [],
   "source": []
  },
  {
   "cell_type": "code",
   "execution_count": null,
   "id": "35ff4ceb",
   "metadata": {},
   "outputs": [],
   "source": []
  }
 ],
 "metadata": {
  "kernelspec": {
   "display_name": "Python 3 (ipykernel)",
   "language": "python",
   "name": "python3"
  },
  "language_info": {
   "codemirror_mode": {
    "name": "ipython",
    "version": 3
   },
   "file_extension": ".py",
   "mimetype": "text/x-python",
   "name": "python",
   "nbconvert_exporter": "python",
   "pygments_lexer": "ipython3",
   "version": "3.10.9"
  }
 },
 "nbformat": 4,
 "nbformat_minor": 5
}
